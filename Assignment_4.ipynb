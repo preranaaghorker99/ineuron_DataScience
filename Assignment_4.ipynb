{
 "cells": [
  {
   "cell_type": "code",
   "execution_count": null,
   "id": "ae1d1d37",
   "metadata": {},
   "outputs": [],
   "source": [
    "# 1. What exactly is []?\n",
    "# Answer - empty list "
   ]
  },
  {
   "cell_type": "code",
   "execution_count": null,
   "id": "2771abea",
   "metadata": {},
   "outputs": [],
   "source": [
    "'''\n",
    "In a list of values stored in a variable called spam, how would you assign the value hello as the\n",
    "third value? (Assume [2, 4, 6, 8, 10] are in spam.)\n",
    "'''"
   ]
  },
  {
   "cell_type": "code",
   "execution_count": 3,
   "id": "b3af3074",
   "metadata": {},
   "outputs": [],
   "source": [
    "spam=[2,4,6,8,10]"
   ]
  },
  {
   "cell_type": "code",
   "execution_count": 4,
   "id": "c9d2c074",
   "metadata": {},
   "outputs": [
    {
     "data": {
      "text/plain": [
       "[2, 4, 6, 8, 10]"
      ]
     },
     "execution_count": 4,
     "metadata": {},
     "output_type": "execute_result"
    }
   ],
   "source": [
    "spam"
   ]
  },
  {
   "cell_type": "code",
   "execution_count": 5,
   "id": "c3c91496",
   "metadata": {},
   "outputs": [],
   "source": [
    "spam[2]=\"hello\""
   ]
  },
  {
   "cell_type": "code",
   "execution_count": 6,
   "id": "cc96113e",
   "metadata": {},
   "outputs": [
    {
     "data": {
      "text/plain": [
       "[2, 4, 'hello', 8, 10]"
      ]
     },
     "execution_count": 6,
     "metadata": {},
     "output_type": "execute_result"
    }
   ],
   "source": [
    "spam"
   ]
  },
  {
   "cell_type": "code",
   "execution_count": null,
   "id": "dfb634ab",
   "metadata": {},
   "outputs": [],
   "source": [
    "# Let's pretend the spam includes the list ['a','b','c','d'] for the next three queries."
   ]
  },
  {
   "cell_type": "code",
   "execution_count": 7,
   "id": "f9b56e0e",
   "metadata": {},
   "outputs": [],
   "source": [
    "spam=['a','b','c','d']"
   ]
  },
  {
   "cell_type": "code",
   "execution_count": null,
   "id": "c9a3e58d",
   "metadata": {},
   "outputs": [],
   "source": [
    "# 3. What is the value of spam[int(int('3' * 2) / 11)]?"
   ]
  },
  {
   "cell_type": "code",
   "execution_count": 8,
   "id": "81dadd3c",
   "metadata": {},
   "outputs": [
    {
     "data": {
      "text/plain": [
       "'d'"
      ]
     },
     "execution_count": 8,
     "metadata": {},
     "output_type": "execute_result"
    }
   ],
   "source": [
    "spam[int(int('3'*2)/11)]"
   ]
  },
  {
   "cell_type": "code",
   "execution_count": null,
   "id": "2ecead6a",
   "metadata": {},
   "outputs": [],
   "source": [
    "# 4. What is the value of spam[-1]?"
   ]
  },
  {
   "cell_type": "code",
   "execution_count": 9,
   "id": "b0f0f9b2",
   "metadata": {},
   "outputs": [
    {
     "data": {
      "text/plain": [
       "'d'"
      ]
     },
     "execution_count": 9,
     "metadata": {},
     "output_type": "execute_result"
    }
   ],
   "source": [
    "spam[-1]"
   ]
  },
  {
   "cell_type": "code",
   "execution_count": null,
   "id": "db44fae3",
   "metadata": {},
   "outputs": [],
   "source": [
    "# 5. What is the value of spam[:2]?"
   ]
  },
  {
   "cell_type": "code",
   "execution_count": 10,
   "id": "18a89c44",
   "metadata": {},
   "outputs": [
    {
     "data": {
      "text/plain": [
       "['a', 'b']"
      ]
     },
     "execution_count": 10,
     "metadata": {},
     "output_type": "execute_result"
    }
   ],
   "source": [
    "spam[:2]"
   ]
  },
  {
   "cell_type": "code",
   "execution_count": null,
   "id": "3e8ca20b",
   "metadata": {},
   "outputs": [],
   "source": [
    "# Let's pretend bacon has the list [3.14,'cat',11,'cat',True] for the next three questions.\n"
   ]
  },
  {
   "cell_type": "code",
   "execution_count": 11,
   "id": "193d8ed2",
   "metadata": {},
   "outputs": [],
   "source": [
    "bacon=[3.14,'cat',11,'cat',True]"
   ]
  },
  {
   "cell_type": "code",
   "execution_count": null,
   "id": "e764df75",
   "metadata": {},
   "outputs": [],
   "source": [
    "# 6. What is the value of bacon.index('cat')?"
   ]
  },
  {
   "cell_type": "code",
   "execution_count": 12,
   "id": "13bed199",
   "metadata": {},
   "outputs": [
    {
     "data": {
      "text/plain": [
       "1"
      ]
     },
     "execution_count": 12,
     "metadata": {},
     "output_type": "execute_result"
    }
   ],
   "source": [
    "bacon.index('cat')"
   ]
  },
  {
   "cell_type": "code",
   "execution_count": null,
   "id": "7005e79c",
   "metadata": {},
   "outputs": [],
   "source": [
    "# 7. How does bacon.append(99) change the look of the list value in bacon?"
   ]
  },
  {
   "cell_type": "code",
   "execution_count": 13,
   "id": "d623fd3f",
   "metadata": {},
   "outputs": [],
   "source": [
    "bacon.append(99)"
   ]
  },
  {
   "cell_type": "code",
   "execution_count": 14,
   "id": "ff99acd2",
   "metadata": {},
   "outputs": [
    {
     "data": {
      "text/plain": [
       "[3.14, 'cat', 11, 'cat', True, 99]"
      ]
     },
     "execution_count": 14,
     "metadata": {},
     "output_type": "execute_result"
    }
   ],
   "source": [
    "bacon"
   ]
  },
  {
   "cell_type": "code",
   "execution_count": null,
   "id": "b69a2610",
   "metadata": {},
   "outputs": [],
   "source": [
    "# 8. How does bacon.remove('cat') change the look of the list in bacon?"
   ]
  },
  {
   "cell_type": "code",
   "execution_count": 15,
   "id": "500c4cbd",
   "metadata": {},
   "outputs": [],
   "source": [
    "bacon.remove('cat')"
   ]
  },
  {
   "cell_type": "code",
   "execution_count": 16,
   "id": "e613c9f1",
   "metadata": {},
   "outputs": [
    {
     "data": {
      "text/plain": [
       "[3.14, 11, 'cat', True, 99]"
      ]
     },
     "execution_count": 16,
     "metadata": {},
     "output_type": "execute_result"
    }
   ],
   "source": [
    "bacon"
   ]
  },
  {
   "cell_type": "code",
   "execution_count": null,
   "id": "3081ce6f",
   "metadata": {},
   "outputs": [],
   "source": [
    "# 9. What are the list concatenation and list replication operators?\n",
    "\n",
    "# Answer - The operator for list concatenation is +, while the operator for replication is *"
   ]
  },
  {
   "cell_type": "code",
   "execution_count": null,
   "id": "732aa899",
   "metadata": {},
   "outputs": [],
   "source": [
    "# 10. What is difference between the list methods append() and insert()?\n",
    "\n",
    "# Answer - The only difference between append() and insert() is that insert function allows us to add a specific element at a specified index of the list unlike append() where we can add the element only at end of the list"
   ]
  },
  {
   "cell_type": "code",
   "execution_count": null,
   "id": "dca1973b",
   "metadata": {},
   "outputs": [],
   "source": [
    "# 11. What are the two methods for removing items from a list?\n",
    "\n",
    "# Answer - remove(),pop()"
   ]
  },
  {
   "cell_type": "code",
   "execution_count": null,
   "id": "4b9c8934",
   "metadata": {},
   "outputs": [],
   "source": []
  },
  {
   "cell_type": "code",
   "execution_count": null,
   "id": "eae69073",
   "metadata": {},
   "outputs": [],
   "source": [
    "# 12. Describe how list values and string values are identical.\n",
    "\n",
    "# Answer - The similarity between Lists and Strings in Python is that both are sequences."
   ]
  },
  {
   "cell_type": "code",
   "execution_count": null,
   "id": "38e1e76a",
   "metadata": {},
   "outputs": [],
   "source": [
    "# 13. What's the difference between tuples and lists?\n",
    "\n",
    "# Answer - List[] are mutable and tuple() are immutable."
   ]
  },
  {
   "cell_type": "code",
   "execution_count": null,
   "id": "c7bf4a00",
   "metadata": {},
   "outputs": [],
   "source": [
    "# 14. How do you type a tuple value that only contains the integer 42?"
   ]
  },
  {
   "cell_type": "code",
   "execution_count": 17,
   "id": "04bad94b",
   "metadata": {},
   "outputs": [],
   "source": [
    "t1=(42)"
   ]
  },
  {
   "cell_type": "code",
   "execution_count": 18,
   "id": "a2dc0bef",
   "metadata": {},
   "outputs": [
    {
     "data": {
      "text/plain": [
       "42"
      ]
     },
     "execution_count": 18,
     "metadata": {},
     "output_type": "execute_result"
    }
   ],
   "source": [
    "t1"
   ]
  },
  {
   "cell_type": "code",
   "execution_count": 19,
   "id": "93d0b768",
   "metadata": {},
   "outputs": [
    {
     "data": {
      "text/plain": [
       "int"
      ]
     },
     "execution_count": 19,
     "metadata": {},
     "output_type": "execute_result"
    }
   ],
   "source": [
    "type(t1)"
   ]
  },
  {
   "cell_type": "code",
   "execution_count": null,
   "id": "2ac7ec2d",
   "metadata": {},
   "outputs": [],
   "source": [
    "# 15. How do you get a list value's tuple form? How do you get a tuple value's list form?"
   ]
  },
  {
   "cell_type": "code",
   "execution_count": 20,
   "id": "80868667",
   "metadata": {},
   "outputs": [
    {
     "data": {
      "text/plain": [
       "[1, 3, 5]"
      ]
     },
     "execution_count": 20,
     "metadata": {},
     "output_type": "execute_result"
    }
   ],
   "source": [
    "l=[1,3,5]\n",
    "l"
   ]
  },
  {
   "cell_type": "code",
   "execution_count": 21,
   "id": "eff259c0",
   "metadata": {},
   "outputs": [
    {
     "name": "stdout",
     "output_type": "stream",
     "text": [
      "(1, 3, 5)\n"
     ]
    }
   ],
   "source": [
    "print(tuple(l))"
   ]
  },
  {
   "cell_type": "code",
   "execution_count": 23,
   "id": "76ca1921",
   "metadata": {},
   "outputs": [
    {
     "data": {
      "text/plain": [
       "(2, 4, 6)"
      ]
     },
     "execution_count": 23,
     "metadata": {},
     "output_type": "execute_result"
    }
   ],
   "source": [
    "t=(2,4,6)\n",
    "t"
   ]
  },
  {
   "cell_type": "code",
   "execution_count": 24,
   "id": "aa9f2e34",
   "metadata": {},
   "outputs": [
    {
     "name": "stdout",
     "output_type": "stream",
     "text": [
      "[2, 4, 6]\n"
     ]
    }
   ],
   "source": [
    "print(list(t))"
   ]
  },
  {
   "cell_type": "code",
   "execution_count": null,
   "id": "c12abc9a",
   "metadata": {},
   "outputs": [],
   "source": [
    "# 17. How do you distinguish between copy.copy() and copy.deepcopy()?\n",
    "\n",
    "# Answer - copy() create reference to original object. If you change copied object you change the original object & deepcopy() creates new object and does real copying of original object to new one."
   ]
  }
 ],
 "metadata": {
  "kernelspec": {
   "display_name": "Python 3 (ipykernel)",
   "language": "python",
   "name": "python3"
  },
  "language_info": {
   "codemirror_mode": {
    "name": "ipython",
    "version": 3
   },
   "file_extension": ".py",
   "mimetype": "text/x-python",
   "name": "python",
   "nbconvert_exporter": "python",
   "pygments_lexer": "ipython3",
   "version": "3.9.12"
  }
 },
 "nbformat": 4,
 "nbformat_minor": 5
}
