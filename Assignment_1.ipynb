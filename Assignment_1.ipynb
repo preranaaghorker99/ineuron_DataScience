{
 "cells": [
  {
   "cell_type": "code",
   "execution_count": null,
   "id": "47d566aa",
   "metadata": {},
   "outputs": [],
   "source": [
    "'''1.In the below elements which of them are values or an expression? eg:- values can be integer or string and expressions will be mathematical operators."
   ]
  },
  {
   "cell_type": "code",
   "execution_count": null,
   "id": "8ffaa8ad",
   "metadata": {},
   "outputs": [],
   "source": [
    "'''\n",
    "* = Expression\n",
    "'hello' = Values\n",
    "-87.8 = Values\n",
    "- = Expression\n",
    "/ = Expression\n",
    "+ = Expression\n",
    "6 = Values\n",
    "'''"
   ]
  },
  {
   "cell_type": "code",
   "execution_count": null,
   "id": "c887ab73",
   "metadata": {},
   "outputs": [],
   "source": [
    "'''\n",
    "2.What is differnce between String and variable?\n",
    "\n",
    "Answer - A variable stores the data.String is a type of data that is stored in variable.\n",
    "'''"
   ]
  },
  {
   "cell_type": "code",
   "execution_count": null,
   "id": "92992029",
   "metadata": {},
   "outputs": [],
   "source": [
    "'''\n",
    "3.Describe three differnt data types\n",
    "\n",
    "Answer-int,string,float\n",
    "'''"
   ]
  },
  {
   "cell_type": "code",
   "execution_count": null,
   "id": "5dfab753",
   "metadata": {},
   "outputs": [],
   "source": [
    "'''\n",
    "4.What is an expression made up of? What do all expressions do?\n",
    "\n",
    "Answer - Expressions are made up of mathematical operators(+,-,/,*) and they perform mathematical operations\n",
    " '''"
   ]
  },
  {
   "cell_type": "code",
   "execution_count": null,
   "id": "33d95c43",
   "metadata": {},
   "outputs": [],
   "source": [
    "'''\n",
    "5. This assignment statements, like spam = 10. What is the difference between an expression and a statement?\n",
    "\n",
    "Answer - An expression is something that can be reduced to a value. For e.g , a=2+3\n",
    "\n",
    "Instructions that a Python interpreter can execute are called statements. For example, a = 1\n",
    "'''\n"
   ]
  },
  {
   "cell_type": "code",
   "execution_count": null,
   "id": "b24525c8",
   "metadata": {},
   "outputs": [],
   "source": [
    "'''\n",
    "6.After running the following code, what does the variable bacon contain?\n",
    "bacon = 22\n",
    "bacon + 1\n",
    "'''"
   ]
  },
  {
   "cell_type": "code",
   "execution_count": 1,
   "id": "e841f293",
   "metadata": {},
   "outputs": [
    {
     "data": {
      "text/plain": [
       "23"
      ]
     },
     "execution_count": 1,
     "metadata": {},
     "output_type": "execute_result"
    }
   ],
   "source": [
    "bacon = 22\n",
    "bacon + 1"
   ]
  },
  {
   "cell_type": "code",
   "execution_count": null,
   "id": "517e55cd",
   "metadata": {},
   "outputs": [],
   "source": [
    "'''\n",
    "7.What should the values of the following two terms be?\n",
    "'spam'+'spamspam'\n",
    "'spam * 3'\n",
    "'''"
   ]
  },
  {
   "cell_type": "code",
   "execution_count": 2,
   "id": "eef3f443",
   "metadata": {},
   "outputs": [
    {
     "data": {
      "text/plain": [
       "'spamspamspam'"
      ]
     },
     "execution_count": 2,
     "metadata": {},
     "output_type": "execute_result"
    }
   ],
   "source": [
    "'spam'+ 'spamspam'"
   ]
  },
  {
   "cell_type": "code",
   "execution_count": 3,
   "id": "1c444e58",
   "metadata": {},
   "outputs": [
    {
     "data": {
      "text/plain": [
       "'spamspamspam'"
      ]
     },
     "execution_count": 3,
     "metadata": {},
     "output_type": "execute_result"
    }
   ],
   "source": [
    "'spam' * 3"
   ]
  },
  {
   "cell_type": "code",
   "execution_count": null,
   "id": "c5744728",
   "metadata": {},
   "outputs": [],
   "source": [
    "'''\n",
    "8.Why is eggs a valid variable name while 100 is invalid? \n",
    "Answer - Variable name can have alphabets but cannot start with a number.\n",
    "'''"
   ]
  },
  {
   "cell_type": "code",
   "execution_count": null,
   "id": "e6b7b7b2",
   "metadata": {},
   "outputs": [],
   "source": [
    "'''\n",
    "9.What three functions can be used to get the integer, floating-point number, or string version of a value?\n",
    "\n",
    "Answer - int(),float(),str()\n",
    "'''"
   ]
  },
  {
   "cell_type": "code",
   "execution_count": null,
   "id": "6a704121",
   "metadata": {},
   "outputs": [],
   "source": [
    "'''\n",
    "10.Why does this expression cause an error? How can you fix it?\n",
    "'I have eaten' + '99' + 'burritos'\n",
    "\n",
    "Answer - 'I have eaten' + 99 + 'burritos' - because we can only concatenate similar data types variable.99 is integer.\n",
    "'''"
   ]
  },
  {
   "cell_type": "code",
   "execution_count": 4,
   "id": "53630c24",
   "metadata": {},
   "outputs": [
    {
     "data": {
      "text/plain": [
       "'I have eaten99burritos'"
      ]
     },
     "execution_count": 4,
     "metadata": {},
     "output_type": "execute_result"
    }
   ],
   "source": [
    "'I have eaten' + '99' + 'burritos'"
   ]
  },
  {
   "cell_type": "code",
   "execution_count": null,
   "id": "0976db07",
   "metadata": {},
   "outputs": [],
   "source": []
  }
 ],
 "metadata": {
  "kernelspec": {
   "display_name": "Python 3 (ipykernel)",
   "language": "python",
   "name": "python3"
  },
  "language_info": {
   "codemirror_mode": {
    "name": "ipython",
    "version": 3
   },
   "file_extension": ".py",
   "mimetype": "text/x-python",
   "name": "python",
   "nbconvert_exporter": "python",
   "pygments_lexer": "ipython3",
   "version": "3.9.12"
  }
 },
 "nbformat": 4,
 "nbformat_minor": 5
}
